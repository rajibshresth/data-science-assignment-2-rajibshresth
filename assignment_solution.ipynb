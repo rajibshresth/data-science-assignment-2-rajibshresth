{
 "cells": [
  {
   "cell_type": "markdown",
   "metadata": {},
   "source": [
    "## Task1: Setup and DataFrame Creation"
   ]
  },
  {
   "cell_type": "code",
   "execution_count": null,
   "metadata": {},
   "outputs": [],
   "source": [
    "# pandas installation code\n",
    "!pip install pandas"
   ]
  },
  {
   "cell_type": "code",
   "execution_count": null,
   "metadata": {},
   "outputs": [],
   "source": [
    "# Import Libraries (Pandas)\n",
    "import pandas as pd # pd can be anything but a shorter abbrieviation of the actual word i prefered"
   ]
  },
  {
   "cell_type": "code",
   "execution_count": null,
   "metadata": {},
   "outputs": [],
   "source": [
    "# Creating a DataFrame from a dictionary\n",
    "std_details ={\n",
    "    \"Name\":[\"Rajib\", \"Ram\", \"Tanaka\"],\n",
    "    \"Age\": [25, 30, 45],\n",
    "    \"Country\": [\"Nepal\", \"India\", \"Japan\"]\n",
    "}\n",
    "print(type(std_details))\n",
    "std_details_dataframe = pd.DataFrame(std_details)\n",
    "print(std_details_dataframe)"
   ]
  },
  {
   "cell_type": "code",
   "execution_count": null,
   "metadata": {},
   "outputs": [],
   "source": [
    "# Creating a DataFrame from a list of Dictionary\n",
    "std_data = [{\"Name\":\"Zoro\", \"Age\":20,\"Country\":\"Japan\"},{\"Name\":\"Ramesh\", \"Age\":35,\"Country\":\"Bangladesh\"},{\"Name\":\"Sushil\", \"Age\":27,\"Country\":\"Nepal\"}]\n",
    "print(type(std_data))\n",
    "std_data_dataframe = pd.DataFrame(std_data)\n",
    "print(std_data_dataframe)\n"
   ]
  },
  {
   "cell_type": "code",
   "execution_count": null,
   "metadata": {},
   "outputs": [],
   "source": [
    "# Read Data from a CSV File\n",
    "csv_data = pd.read_csv(\"messed_dataset.csv\")\n",
    "print(csv_data)\n",
    "#changing the read csv data to a dataframe\n",
    "csv_dataframe = pd.DataFrame(csv_data)\n",
    "print(csv_dataframe)\n"
   ]
  },
  {
   "cell_type": "markdown",
   "metadata": {},
   "source": [
    "## Task2: Viewing and Inspecting Data"
   ]
  },
  {
   "cell_type": "code",
   "execution_count": null,
   "metadata": {},
   "outputs": [],
   "source": [
    "# Displaying first and last few rows of the csv data\n",
    "print(csv_dataframe.head()) #first 5 rows\n",
    "print(csv_dataframe.tail()) #last 5 rows"
   ]
  },
  {
   "cell_type": "code",
   "execution_count": null,
   "metadata": {},
   "outputs": [],
   "source": [
    "# Summary of the DataFrame\n",
    "print(csv_dataframe.info()) #Basic Information"
   ]
  },
  {
   "cell_type": "code",
   "execution_count": null,
   "metadata": {},
   "outputs": [],
   "source": [
    "print(csv_dataframe.describe()) # Statistics"
   ]
  },
  {
   "cell_type": "code",
   "execution_count": null,
   "metadata": {},
   "outputs": [],
   "source": [
    "# shape of the dataframe\n",
    "print(csv_dataframe.shape)"
   ]
  },
  {
   "cell_type": "code",
   "execution_count": null,
   "metadata": {},
   "outputs": [],
   "source": [
    "# columns in the dataframe\n",
    "print(csv_dataframe.columns)"
   ]
  },
  {
   "cell_type": "markdown",
   "metadata": {},
   "source": [
    "## Task 3: Selection and Indexing"
   ]
  },
  {
   "cell_type": "code",
   "execution_count": null,
   "metadata": {},
   "outputs": [],
   "source": [
    "# Select a single column\n",
    "print(csv_dataframe[\"Email\"])"
   ]
  },
  {
   "cell_type": "code",
   "execution_count": null,
   "metadata": {},
   "outputs": [],
   "source": [
    "# select multiple columns\n",
    "csv_dataframe[[\"Name\", \"Country\"]]"
   ]
  },
  {
   "cell_type": "code",
   "execution_count": null,
   "metadata": {},
   "outputs": [],
   "source": [
    "# Selecting Rows by index\n",
    "csv_dataframe.iloc[5]"
   ]
  },
  {
   "cell_type": "code",
   "execution_count": null,
   "metadata": {},
   "outputs": [],
   "source": [
    "csv_dataframe.iloc[:5]"
   ]
  },
  {
   "cell_type": "code",
   "execution_count": null,
   "metadata": {},
   "outputs": [],
   "source": [
    "csv_dataframe.iloc[5:10]"
   ]
  },
  {
   "cell_type": "code",
   "execution_count": null,
   "metadata": {},
   "outputs": [],
   "source": [
    "# Selecting Rows by labels\n",
    "csv_dataframe.loc[9,'Name']"
   ]
  },
  {
   "cell_type": "code",
   "execution_count": null,
   "metadata": {},
   "outputs": [],
   "source": [
    "csv_dataframe.loc[:9, \"Name\"]"
   ]
  },
  {
   "cell_type": "code",
   "execution_count": null,
   "metadata": {},
   "outputs": [],
   "source": [
    "csv_dataframe.loc[5:9, \"Name\"]"
   ]
  },
  {
   "cell_type": "code",
   "execution_count": null,
   "metadata": {},
   "outputs": [],
   "source": [
    "csv_dataframe.loc[:9, [\"Name\",\"Age\",\"Email\"]]"
   ]
  },
  {
   "cell_type": "markdown",
   "metadata": {},
   "source": [
    "##### Note: loc is used for label based selection and iloc is used for integer based selection"
   ]
  },
  {
   "cell_type": "markdown",
   "metadata": {},
   "source": [
    "## Task 4: Handling Missing Data"
   ]
  },
  {
   "cell_type": "code",
   "execution_count": null,
   "metadata": {},
   "outputs": [],
   "source": [
    "# Identifying the missing data\n",
    "print(csv_dataframe.isnull()) # shows True for all the missing data\n",
    "print(csv_dataframe.isnull().sum()) # calculates the number of missing data"
   ]
  },
  {
   "cell_type": "code",
   "execution_count": null,
   "metadata": {},
   "outputs": [],
   "source": [
    "#  drop rows with missing values\n",
    "test_csv = pd.read_csv(\"test.csv\")\n",
    "new_dframe = pd.DataFrame(test_csv);\n",
    "print(new_dframe)\n",
    "print(new_dframe.isnull())\n",
    "new_dframe.dropna(inplace=True)\n",
    "print(new_dframe) # the row with null values has been removed"
   ]
  },
  {
   "cell_type": "code",
   "execution_count": null,
   "metadata": {},
   "outputs": [],
   "source": [
    "print(csv_dataframe.head().isnull())\n",
    "#Filling the missing values\n",
    "csv_dataframe.fillna(value={\"Salary\":15000},inplace=True) # filling single column value\n",
    "csv_dataframe.fillna(value={\"Name\":\"John\",\"Age\":20,\"Email\":\"nic@gmail.com\",\"Country\":\"Nepal\",\"DateOfJoining\":\"2024-07-04\"},inplace=True) # multiple columns value at once\n",
    "print(csv_dataframe)"
   ]
  },
  {
   "cell_type": "code",
   "execution_count": null,
   "metadata": {},
   "outputs": [],
   "source": [
    "csv_dataframe.isnull().sum()"
   ]
  },
  {
   "cell_type": "markdown",
   "metadata": {},
   "source": [
    "## Task 5: Data Operations"
   ]
  },
  {
   "cell_type": "code",
   "execution_count": null,
   "metadata": {},
   "outputs": [],
   "source": [
    "# Add a new Column to Dataframe\n",
    "new_dframe[\"Gender\"] = [\"Male\", \"Female\"] \n",
    "# Need to add all rows values, my new_dframe has 2 rows after missing value drop so i added only two values\n",
    "print(new_dframe)"
   ]
  },
  {
   "cell_type": "code",
   "execution_count": null,
   "metadata": {},
   "outputs": [],
   "source": [
    "# Add Gender in csv_dataframe which has 100 rows\n",
    "csv_dataframe[\"Gender\"] = [\"Male\",\"Female\"] * (len(csv_dataframe)//2)\n",
    "print(csv_dataframe)"
   ]
  },
  {
   "cell_type": "code",
   "execution_count": null,
   "metadata": {},
   "outputs": [],
   "source": [
    "# Deleting a columns from the dataframe\n",
    "new_dframe.drop(columns=[\"Country\"],inplace=True) # delete single columns\n",
    "print(new_dframe)"
   ]
  },
  {
   "cell_type": "code",
   "execution_count": null,
   "metadata": {},
   "outputs": [],
   "source": [
    "# Deleting a columns from the dataframe\n",
    "new_dframe.drop(columns=[\"Email\",\"Age\"],inplace=True) # Delete multiple columns\n",
    "print(new_dframe)"
   ]
  },
  {
   "cell_type": "code",
   "execution_count": null,
   "metadata": {},
   "outputs": [],
   "source": [
    "# Renaming a column\n",
    "new_dframe.rename(columns={\"Gender\":\"Sex\"},inplace=True)\n",
    "print(new_dframe)"
   ]
  },
  {
   "cell_type": "code",
   "execution_count": null,
   "metadata": {},
   "outputs": [],
   "source": [
    "csv_dataframe.rename(columns={\"Gender\":\"Sex\"},inplace=True)\n",
    "print(csv_dataframe)"
   ]
  },
  {
   "cell_type": "code",
   "execution_count": null,
   "metadata": {},
   "outputs": [],
   "source": [
    "# Apply function to a column\n",
    "new_dframe[\"Sex\"] = new_dframe[\"Sex\"].apply(lambda x:x + \"s\")\n",
    "print(new_dframe)"
   ]
  },
  {
   "cell_type": "code",
   "execution_count": null,
   "metadata": {},
   "outputs": [],
   "source": [
    "# Apply function to a column\n",
    "csv_dataframe[\"Name\"] = csv_dataframe[\"Name\"].apply(lambda x:\"NIC \" + x)\n",
    "print(csv_dataframe.head())\n",
    "print(csv_dataframe.tail())"
   ]
  },
  {
   "cell_type": "markdown",
   "metadata": {},
   "source": [
    "## Task 6: GroupBy Operations"
   ]
  },
  {
   "cell_type": "code",
   "execution_count": null,
   "metadata": {},
   "outputs": [],
   "source": [
    "# Group the DataFrame by a columns and calculate summary statistics\n",
    "grade_dict = {\n",
    "    \"Name\":[\"Rajib\", \"Ram\", \"Tanaka\", \"So Hyun\", \"Min Ho\"],\n",
    "    \"Age\": [25, 30, 45, 26, 42],\n",
    "    \"Score\": [85, 89, 58, 98, 68]\n",
    "}\n",
    "grp_dataFrame = pd.DataFrame(grade_dict)\n",
    "print(grp_dataFrame)"
   ]
  },
  {
   "cell_type": "code",
   "execution_count": null,
   "metadata": {},
   "outputs": [],
   "source": [
    "# Group by Name\n",
    "grped_data = grp_dataFrame.groupby(\"Name\")\n",
    "print(grped_data)"
   ]
  },
  {
   "cell_type": "code",
   "execution_count": null,
   "metadata": {},
   "outputs": [],
   "source": [
    "# Calculate the mean\n",
    "data_mean = grped_data[\"Score\"].mean()\n",
    "print(data_mean)"
   ]
  },
  {
   "cell_type": "code",
   "execution_count": null,
   "metadata": {},
   "outputs": [],
   "source": [
    "# summary\n",
    "summary = grped_data.describe()\n",
    "print(summary)"
   ]
  },
  {
   "cell_type": "code",
   "execution_count": null,
   "metadata": {},
   "outputs": [],
   "source": [
    "# iterate over groups and siplay their group names and data\n",
    "for group_name, group_data in grped_data:\n",
    "    print(f\"Group Name: {group_name}\")\n",
    "    print(group_data)\n",
    "    print() # added to display empty area to distinguish each group"
   ]
  },
  {
   "cell_type": "markdown",
   "metadata": {},
   "source": [
    "## Task 7: Merging and Joining DataFrames"
   ]
  },
  {
   "cell_type": "code",
   "execution_count": null,
   "metadata": {},
   "outputs": [],
   "source": [
    "df1 = pd.DataFrame({\n",
    "    \"Name\":[\"John\",\"Drew\",\"Seth\"],\n",
    "    \"Score\":[90, 75, 88],\n",
    "    \"std_id\":[\"std_0\",\"std_1\",\"std_2\"]},\n",
    "    index=[\"S0\",\"S1\",\"S2\"]\n",
    "    )\n",
    "\n",
    "df2 = pd.DataFrame({\n",
    "    \"Age\":[45,35,30],\n",
    "    \"Country\":[\"USA\",\"UK\",\"USA\"],\n",
    "    \"std_id\":[\"std_0\",\"std_1\",\"std_2\"]},\n",
    "    index=[\"S0\",\"S1\",\"S2\"]\n",
    "    )"
   ]
  },
  {
   "cell_type": "code",
   "execution_count": null,
   "metadata": {},
   "outputs": [],
   "source": [
    "# Merging two DataFrames on a common column\n",
    "merged_df = pd.merge(df1, df2, on=\"std_id\")\n",
    "print(merged_df)"
   ]
  },
  {
   "cell_type": "code",
   "execution_count": null,
   "metadata": {},
   "outputs": [],
   "source": [
    "# Joining the DataFrames using their indices\n",
    "indices_join_df = df1.join(df2, lsuffix='_left', rsuffix='_right')\n",
    "print(indices_join_df)"
   ]
  },
  {
   "cell_type": "markdown",
   "metadata": {},
   "source": [
    "## Task 8: Working with Dates and Times"
   ]
  },
  {
   "cell_type": "code",
   "execution_count": null,
   "metadata": {},
   "outputs": [],
   "source": [
    "# Create a datetime column DataFrame using date_range\n",
    "merged_df[\"Marked_Date\"] = pd.date_range(start=\"2024-07-01\", periods=len(merged_df), freq=\"D\")\n",
    "print(merged_df)"
   ]
  },
  {
   "cell_type": "code",
   "execution_count": null,
   "metadata": {},
   "outputs": [],
   "source": [
    "# Coverting to a datetime\n",
    "merged_df[\"Marked_Date\"] = pd.to_datetime(merged_df[\"Marked_Date\"])\n",
    "print(merged_df)"
   ]
  },
  {
   "cell_type": "code",
   "execution_count": null,
   "metadata": {},
   "outputs": [],
   "source": [
    "merged_df.info()"
   ]
  },
  {
   "cell_type": "code",
   "execution_count": null,
   "metadata": {},
   "outputs": [],
   "source": [
    "# using datetimeIndex\n",
    "df1[\"DOB\"] = pd.DatetimeIndex([\"1977-04-23 08:46:12\",\"1985-06-06 13:32:56\", \"1986-05-28 19:56:13\"])\n",
    "print(df1)"
   ]
  },
  {
   "cell_type": "code",
   "execution_count": null,
   "metadata": {},
   "outputs": [],
   "source": [
    "df1.info()"
   ]
  },
  {
   "cell_type": "markdown",
   "metadata": {},
   "source": [
    "## Task 9: Input and Ouput"
   ]
  },
  {
   "cell_type": "code",
   "execution_count": null,
   "metadata": {},
   "outputs": [],
   "source": [
    "#  reading values from a csv file into a dataframe\n",
    "test_csv = pd.read_csv(\"test.csv\")\n",
    "csv_to_df = pd.DataFrame(test_csv);\n",
    "print(csv_to_df)"
   ]
  },
  {
   "cell_type": "code",
   "execution_count": null,
   "metadata": {},
   "outputs": [],
   "source": [
    "# Dataframe to a CSV File\n",
    "## create a new dataframe from scratch\n",
    "person_details = pd.DataFrame({\n",
    "    \"std_id\":[\"std_0\",\"std_1\",\"std_2\"],\n",
    "    \"Name\":[\"John\",\"Drew\",\"Seth\"],\n",
    "    \"Score\":[90, 75, 88],\n",
    "    \"Age\":[45,35,30],\n",
    "    \"Country\":[\"USA\",\"UK\",\"USA\"],},\n",
    "    )\n",
    "\n",
    "# code to add dataframe to csv\n",
    "person_details.to_csv(\"personal_details.csv\", index=False)\n",
    "\n",
    "## converting the previously read csv and converted to dataframe to a new csv\n",
    "csv_to_df.to_csv(\"newTest.csv\", index=False)\n"
   ]
  },
  {
   "cell_type": "code",
   "execution_count": null,
   "metadata": {},
   "outputs": [],
   "source": [
    "# reading an excel file\n",
    "excel_read = pd.read_excel(\"SaleData.xlsx\")\n",
    "excel_to_df = pd.DataFrame(excel_read)\n",
    "print(excel_to_df)"
   ]
  },
  {
   "cell_type": "code",
   "execution_count": null,
   "metadata": {},
   "outputs": [],
   "source": [
    "# converting the csv to excel\n",
    "person_details.to_excel(\"person_details.xlsx\", sheet_name=\"details\")"
   ]
  },
  {
   "cell_type": "markdown",
   "metadata": {},
   "source": [
    "## Task 10: Visaulization"
   ]
  },
  {
   "cell_type": "markdown",
   "metadata": {},
   "source": [
    "#### Simple Plot using matplotlib"
   ]
  },
  {
   "cell_type": "code",
   "execution_count": null,
   "metadata": {},
   "outputs": [],
   "source": [
    "# Install matplotlib\n",
    "!pip install matplotlib"
   ]
  },
  {
   "cell_type": "code",
   "execution_count": null,
   "metadata": {},
   "outputs": [],
   "source": [
    "import matplotlib.pyplot as plt"
   ]
  },
  {
   "cell_type": "code",
   "execution_count": null,
   "metadata": {},
   "outputs": [],
   "source": [
    "#Simple Data\n",
    "x = [1,3,5,7,11,13]\n",
    "y = [2,4,6,8,10,12]\n",
    "\n",
    "# Plot Data\n",
    "plt.plot(x,y)\n",
    "\n",
    "# Customize labels and title\n",
    "plt.xlabel(\"Prime Numbers\")\n",
    "plt.ylabel(\"Even Numbers\")\n",
    "plt.title(\"Simple Chart\")\n",
    "plt.show()"
   ]
  },
  {
   "cell_type": "markdown",
   "metadata": {},
   "source": [
    "#### Bar Plot using Seaborn"
   ]
  },
  {
   "cell_type": "code",
   "execution_count": null,
   "metadata": {},
   "outputs": [],
   "source": [
    "# Install seaborn\n",
    "!pip install seaborn"
   ]
  },
  {
   "cell_type": "code",
   "execution_count": null,
   "metadata": {},
   "outputs": [],
   "source": [
    "# Import seaborn library\n",
    "import seaborn as sns"
   ]
  },
  {
   "cell_type": "code",
   "execution_count": null,
   "metadata": {},
   "outputs": [],
   "source": [
    "# Data\n",
    "languages = ['Python', 'Java', 'JavaScript', 'C#', 'C++']\n",
    "popularity = [70, 60, 50, 40, 30]\n",
    "\n",
    "# Convert to dataframe\n",
    "data_df = pd.DataFrame({'Languages': languages, 'Popularity': popularity})\n",
    "\n",
    "# Create bar plot using Seaborn\n",
    "sns.barplot(x=\"Languages\", y=\"Popularity\", data=data_df)\n",
    "\n",
    "# Customize labels and title\n",
    "plt.xlabel('Programming Languages')\n",
    "plt.ylabel('Popularity')\n",
    "plt.title('Bar Plot using Seaborn')\n",
    "\n",
    "# Show plot\n",
    "plt.show()"
   ]
  }
 ],
 "metadata": {
  "kernelspec": {
   "display_name": "base",
   "language": "python",
   "name": "python3"
  },
  "language_info": {
   "codemirror_mode": {
    "name": "ipython",
    "version": 3
   },
   "file_extension": ".py",
   "mimetype": "text/x-python",
   "name": "python",
   "nbconvert_exporter": "python",
   "pygments_lexer": "ipython3",
   "version": "3.11.7"
  }
 },
 "nbformat": 4,
 "nbformat_minor": 2
}
